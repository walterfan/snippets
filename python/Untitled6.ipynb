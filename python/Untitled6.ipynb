{
 "cells": [
  {
   "cell_type": "code",
   "execution_count": 1,
   "metadata": {},
   "outputs": [
    {
     "name": "stdout",
     "output_type": "stream",
     "text": [
      "<class 'sklearn.utils.Bunch'>\n",
      "   sepal length (cm)  sepal width (cm)  petal length (cm)  petal width (cm)\n",
      "0                5.1               3.5                1.4               0.2\n",
      "1                4.9               3.0                1.4               0.2\n",
      "2                4.7               3.2                1.3               0.2\n",
      "3                4.6               3.1                1.5               0.2\n",
      "4                5.0               3.6                1.4               0.2\n",
      "avg=5.843333333333335\n",
      "std=0.8253012917851409\n",
      "var=0.6811222222222222\n",
      "min=4.3\n",
      "max=7.9\n",
      "median=5.8\n",
      "80th percentile=6.5200000000000005\n",
      "sum=876.5000000000002\n",
      "any=True\n",
      "all=True\n"
     ]
    }
   ],
   "source": [
    "import pandas as pd\n",
    "import numpy as np\n",
    "import matplotlib.pyplot as plt\n",
    "\n",
    "from sklearn import datasets\n",
    "from pandas.plotting import scatter_matrix\n",
    "\n",
    "plt.style.use('ggplot')\n",
    "iris = datasets.load_iris()\n",
    "\n",
    "print(type(iris))\n",
    "\n",
    "df = pd.DataFrame(iris.data, columns = iris.feature_names)\n",
    "print(df.head())\n",
    "\n",
    "s1 = df['sepal length (cm)']\n",
    "print(\"avg={}\".format(np.mean(s1)))\n",
    "print(\"std={}\".format(np.std(s1))) \n",
    "print(\"var={}\".format(np.var(s1))) \n",
    "print(\"min={}\".format(np.min(s1))) \n",
    "print(\"max={}\".format(np.max(s1))) \n",
    "#print(\"idxmin={}\".format(np.idxmin(s1))) \n",
    "#print(\"idxmax={}\".format(np.idxmax(s1))) \n",
    "print(\"median={}\".format(np.median(s1))) \n",
    "print(\"80th percentile={}\".format(np.percentile(s1, 80))) \n",
    "print(\"sum={}\".format(np.sum(s1))) \n",
    "print(\"any={}\".format(np.any(s1))) \n",
    "print(\"all={}\".format(np.all(s1))) \n"
   ]
  },
  {
   "cell_type": "code",
   "execution_count": null,
   "metadata": {
    "collapsed": true
   },
   "outputs": [],
   "source": []
  }
 ],
 "metadata": {
  "kernelspec": {
   "display_name": "Python 3",
   "language": "python",
   "name": "python3"
  },
  "language_info": {
   "codemirror_mode": {
    "name": "ipython",
    "version": 3
   },
   "file_extension": ".py",
   "mimetype": "text/x-python",
   "name": "python",
   "nbconvert_exporter": "python",
   "pygments_lexer": "ipython3",
   "version": "3.6.3"
  }
 },
 "nbformat": 4,
 "nbformat_minor": 2
}
