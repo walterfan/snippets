{
 "cells": [
  {
   "cell_type": "code",
   "execution_count": 10,
   "metadata": {},
   "outputs": [
    {
     "name": "stdout",
     "output_type": "stream",
     "text": [
      "eig_val= [1822.51339301   44.55008575 -750.06347876] \n",
      "eig_vec= [[-0.17665845 -0.97063324  0.12766721]\n",
      " [-0.88955706  0.23976762 -0.95328385]\n",
      " [-0.4212838   0.01956002  0.27377178]]\n"
     ]
    },
    {
     "data": {
      "text/plain": [
       "3488.7936310421114"
      ]
     },
     "execution_count": 10,
     "metadata": {},
     "output_type": "execute_result"
    },
    {
     "data": {
      "text/plain": [
       "-60899999.99999991"
      ]
     },
     "execution_count": 10,
     "metadata": {},
     "output_type": "execute_result"
    },
    {
     "data": {
      "text/plain": [
       "array([[ 2.23320690e-02,  3.39901478e-04, -9.85221675e-03],\n",
       "       [-5.61103448e-03, -6.69950739e-04,  4.92610837e-03],\n",
       "       [-3.70000000e-04,  3.33333333e-04, -8.50138220e-20]])"
      ]
     },
     "execution_count": 10,
     "metadata": {},
     "output_type": "execute_result"
    },
    {
     "name": "stdout",
     "output_type": "stream",
     "text": [
      "x= [-1.  2.]\n"
     ]
    },
    {
     "data": {
      "text/plain": [
       "True"
      ]
     },
     "execution_count": 10,
     "metadata": {},
     "output_type": "execute_result"
    }
   ],
   "source": [
    "import numpy as  np\n",
    "from numpy import linalg as LA\n",
    "arr2d = np.array((\n",
    "    (100, 200, 300),\n",
    "    (111, 222, 3333),\n",
    "    (129,461, 795)\n",
    "))\n",
    "#计算矩阵的特征值和特征向量。\n",
    "eig_val, eig_vec = LA.eig(arr2d)\n",
    "print(\"eig_val=\" ,eig_val, \"\\neig_vec=\", eig_vec)\n",
    "\n",
    "#计算矩阵范数\n",
    "LA.norm(arr2d)\n",
    "#计算数组的行列式。\n",
    "LA.det(arr2d)\n",
    "#计算矩阵的逆矩阵。\n",
    "LA.inv(arr2d)\n",
    "\n",
    "arr1 = np.array([[2,3], [3,4]])\n",
    "arr2 = np.array([4, 5])\n",
    "#求解线性矩阵方程或线性标量方程组。\n",
    "#计算明确确定的，即满秩线性矩阵方程 ax = b 的“精确”解 x。\n",
    "x = np.linalg.solve(arr1, arr2)\n",
    "print(\"x=\", x)\n",
    "np.allclose(np.dot(arr1, x), arr2)"
   ]
  },
  {
   "cell_type": "code",
   "execution_count": null,
   "metadata": {},
   "outputs": [],
   "source": []
  }
 ],
 "metadata": {
  "kernelspec": {
   "display_name": "Python 3",
   "language": "python",
   "name": "python3"
  },
  "language_info": {
   "codemirror_mode": {
    "name": "ipython",
    "version": 3
   },
   "file_extension": ".py",
   "mimetype": "text/x-python",
   "name": "python",
   "nbconvert_exporter": "python",
   "pygments_lexer": "ipython3",
   "version": "3.8.6"
  }
 },
 "nbformat": 4,
 "nbformat_minor": 4
}
