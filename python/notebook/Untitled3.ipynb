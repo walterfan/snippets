{
 "cells": [
  {
   "cell_type": "code",
   "execution_count": 1,
   "metadata": {},
   "outputs": [
    {
     "name": "stdout",
     "output_type": "stream",
     "text": [
      "['timestamp', 'poolName', 'componentAddress', 'failReason', 'URL']\n"
     ]
    }
   ],
   "source": [
    "columns = ['timestamp', 'poolName', 'componentAddress', 'values.failReason', 'values.URL']\n",
    "titles = []\n",
    "for column in columns:\n",
    "    arr = column.split('.')\n",
    "    if(len(arr) > 1):\n",
    "        titles.append(arr[-1])\n",
    "    else:\n",
    "        titles.append(arr[0])\n",
    "print(titles)"
   ]
  },
  {
   "cell_type": "code",
   "execution_count": null,
   "metadata": {
    "collapsed": true
   },
   "outputs": [],
   "source": []
  }
 ],
 "metadata": {
  "kernelspec": {
   "display_name": "Python 3",
   "language": "python",
   "name": "python3"
  },
  "language_info": {
   "codemirror_mode": {
    "name": "ipython",
    "version": 3
   },
   "file_extension": ".py",
   "mimetype": "text/x-python",
   "name": "python",
   "nbconvert_exporter": "python",
   "pygments_lexer": "ipython3",
   "version": "3.6.3"
  }
 },
 "nbformat": 4,
 "nbformat_minor": 2
}
