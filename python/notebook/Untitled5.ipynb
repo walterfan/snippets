{
 "cells": [
  {
   "cell_type": "code",
   "execution_count": 6,
   "metadata": {},
   "outputs": [
    {
     "name": "stdout",
     "output_type": "stream",
     "text": [
      "                   timestamp         featureName  componentType  \\\n",
      "0   2018-08-08T06:08:03.390Z  Tel_Callin_IVR_End            IVR   \n",
      "1   2018-08-08T06:08:03.332Z  Tel_Callin_IVR_End            IVR   \n",
      "2   2018-08-08T06:08:03.211Z  Tel_Callin_IVR_End            IVR   \n",
      "3   2018-08-08T06:07:55.706Z  Tel_Callin_IVR_End            IVR   \n",
      "4   2018-08-08T06:07:55.525Z  Tel_Callin_IVR_End            IVR   \n",
      "5   2018-08-08T06:07:55.625Z  Tel_Callin_IVR_End            IVR   \n",
      "6   2018-08-08T06:07:53.579Z  Tel_Callin_IVR_End            IVR   \n",
      "7   2018-08-08T06:07:48.208Z  Tel_Callin_IVR_End            IVR   \n",
      "8   2018-08-08T06:07:48.411Z  Tel_Callin_IVR_End            IVR   \n",
      "9   2018-08-08T06:07:48.308Z  Tel_Callin_IVR_End            IVR   \n",
      "10  2018-08-08T07:43:32.998Z  Tel_Callin_IVR_End            IVR   \n",
      "11  2018-08-08T07:43:32.417Z  Tel_Callin_IVR_End            IVR   \n",
      "12  2018-08-08T07:43:32.163Z  Tel_Callin_IVR_End            IVR   \n",
      "13  2018-08-08T07:43:32.112Z  Tel_Callin_IVR_End            IVR   \n",
      "14  2018-08-08T07:43:28.534Z  Tel_Callin_IVR_End            IVR   \n",
      "15  2018-08-08T07:43:26.619Z  Tel_Callin_IVR_End            IVR   \n",
      "16  2018-08-08T07:43:24.843Z  Tel_Callin_IVR_End            IVR   \n",
      "17  2018-08-08T07:43:22.267Z  Tel_Callin_IVR_End            IVR   \n",
      "18  2018-08-08T07:43:21.976Z  Tel_Callin_IVR_End            IVR   \n",
      "19  2018-08-08T07:43:16.056Z  Tel_Callin_IVR_End            IVR   \n",
      "20  2018-08-08T07:43:56.509Z  Tel_Callin_IVR_End            IVR   \n",
      "21  2018-08-08T07:43:48.418Z  Tel_Callin_IVR_End            IVR   \n",
      "22  2018-08-08T07:43:33.675Z  Tel_Callin_IVR_End            IVR   \n",
      "23  2018-08-08T07:43:33.428Z  Tel_Callin_IVR_End            IVR   \n",
      "24  2018-08-08T07:43:33.477Z  Tel_Callin_IVR_End            IVR   \n",
      "25  2018-08-08T07:43:26.010Z  Tel_Callin_IVR_End            IVR   \n",
      "26  2018-08-08T07:43:26.111Z  Tel_Callin_IVR_End            IVR   \n",
      "27  2018-08-08T07:43:26.258Z  Tel_Callin_IVR_End            IVR   \n",
      "28  2018-08-08T07:43:21.014Z  Tel_Callin_IVR_End            IVR   \n",
      "29  2018-08-08T07:43:20.526Z  Tel_Callin_IVR_End            IVR   \n",
      "30  2018-08-08T07:44:28.158Z  Tel_Callin_IVR_End            IVR   \n",
      "31  2018-08-08T07:44:18.843Z  Tel_Callin_IVR_End            IVR   \n",
      "32  2018-08-08T07:43:57.307Z  Tel_Callin_IVR_End            IVR   \n",
      "33  2018-08-08T07:43:37.627Z  Tel_Callin_IVR_End            IVR   \n",
      "34  2018-08-08T07:43:37.387Z  Tel_Callin_IVR_End            IVR   \n",
      "35  2018-08-08T07:43:37.488Z  Tel_Callin_IVR_End            IVR   \n",
      "36  2018-08-08T07:43:36.470Z  Tel_Callin_IVR_End            IVR   \n",
      "37  2018-08-08T07:43:35.703Z  Tel_Callin_IVR_End            IVR   \n",
      "38  2018-08-08T07:43:22.487Z  Tel_Callin_IVR_End            IVR   \n",
      "39  2018-08-08T07:43:21.373Z  Tel_Callin_IVR_End            IVR   \n",
      "\n",
      "    componentAddress  poolName   isSuccess               failReason  \n",
      "0      10.120.232.14     t01sj       False             User hang up  \n",
      "1      10.120.232.14     t01sj       False             User hang up  \n",
      "2      10.120.232.14     t01sj       False             User hang up  \n",
      "3      10.120.232.13     t01sj       False             User hang up  \n",
      "4      10.120.232.13     t01sj       False             User hang up  \n",
      "5      10.120.232.13     t01sj       False             User hang up  \n",
      "6      10.120.232.11     t01sj       False  Unexpected sip.RESPONSE  \n",
      "7      10.120.232.12     t01sj       False             User hang up  \n",
      "8      10.120.232.12     t01sj       False             User hang up  \n",
      "9      10.120.232.12     t01sj       False             User hang up  \n",
      "10     10.121.223.14     t01ln       False             User hang up  \n",
      "11     10.121.223.23     t01ln       False             User hang up  \n",
      "12     10.121.223.19     t01ln       False     Authenticate failure  \n",
      "13     10.121.223.19     t01ln       False             User hang up  \n",
      "14     10.121.223.23     t01ln       False             User hang up  \n",
      "15     10.121.223.17     t01ln       False             User hang up  \n",
      "16     10.121.223.12     t01ln       False  Unexpected sip.RESPONSE  \n",
      "17     10.121.223.20     t01ln       False             User hang up  \n",
      "18     10.121.223.15     t01ln       False             User hang up  \n",
      "19     10.121.223.12     t01ln       False             User hang up  \n",
      "20     10.120.123.31     t01am       False  Unexpected sip.RESPONSE  \n",
      "21     10.120.123.25     t01am       False  Unexpected sip.RESPONSE  \n",
      "22     10.120.123.31     t01am       False             User hang up  \n",
      "23     10.120.123.31     t01am       False             User hang up  \n",
      "24     10.120.123.31     t01am       False             User hang up  \n",
      "25     10.120.123.30     t01am       False             User hang up  \n",
      "26     10.120.123.30     t01am       False             User hang up  \n",
      "27     10.120.123.30     t01am       False             User hang up  \n",
      "28     10.120.123.19     t01am       False  Unexpected sip.RESPONSE  \n",
      "29     10.120.123.11     t01am       False  Unexpected sip.RESPONSE  \n",
      "30      10.121.146.7     t01sg       False             User hang up  \n",
      "31      10.121.146.6     t01sg       False             User hang up  \n",
      "32      10.121.146.5     t01sg       False             User hang up  \n",
      "33      10.121.146.8     t01sg       False             User hang up  \n",
      "34      10.121.146.8     t01sg       False             User hang up  \n",
      "35      10.121.146.8     t01sg       False             User hang up  \n",
      "36      10.121.146.7     t01sg       False             User hang up  \n",
      "37      10.121.146.5     t01sg       False             User hang up  \n",
      "38      10.121.146.6     t01sg       False             User hang up  \n",
      "39     10.121.146.10     t01sg       False             User hang up  \n"
     ]
    },
    {
     "data": {
      "image/png": "[encoded data removed]",
      "text/plain": [
       "<matplotlib.figure.Figure at 0x114a27cf8>"
      ]
     },
     "metadata": {},
     "output_type": "display_data"
    }
   ],
   "source": [
    "import matplotlib.pyplot as plt\n",
    "import pandas as pd\n",
    "\n",
    "csvFile = '/Users/yafan/Documents/workspace/webex/webex-telephony-metrics/logs/GivrMetricsReporter_2018080815.csv'\n",
    "\n",
    "df = pd.read_csv(csvFile)\n",
    "print(df)\n",
    "\n",
    "df['timestamp'] = pd.to_datetime(df['timestamp'])\n",
    "df1 = df.groupby([df['timestamp'].dt.to_period('H')]).count()\n",
    "df2 = df1['timestamp']\n",
    "df2.plot(kind=\"bar\", rot=30)\n",
    "\n",
    "plt.show()"
   ]
  },
  {
   "cell_type": "code",
   "execution_count": null,
   "metadata": {
    "collapsed": true
   },
   "outputs": [],
   "source": []
  },
  {
   "cell_type": "code",
   "execution_count": null,
   "metadata": {
    "collapsed": true
   },
   "outputs": [],
   "source": []
  }
 ],
 "metadata": {
  "kernelspec": {
   "display_name": "Python 3",
   "language": "python",
   "name": "python3"
  },
  "language_info": {
   "codemirror_mode": {
    "name": "ipython",
    "version": 3
   },
   "file_extension": ".py",
   "mimetype": "text/x-python",
   "name": "python",
   "nbconvert_exporter": "python",
   "pygments_lexer": "ipython3",
   "version": "3.6.3"
  }
 },
 "nbformat": 4,
 "nbformat_minor": 2
}
