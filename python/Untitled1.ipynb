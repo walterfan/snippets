{
 "cells": [
  {
   "cell_type": "code",
   "execution_count": 8,
   "metadata": {},
   "outputs": [
    {
     "name": "stdout",
     "output_type": "stream",
     "text": [
      "| t1| t2| t3|\n",
      "|---|---|---|\n"
     ]
    }
   ],
   "source": [
    "titles = [\"t1\", 't2', 't3']\n",
    "\n",
    "columns = [\"t1\", 't2', 't3']\n",
    "\n",
    "values = {'t1': \"v1\", 't2': \"v2\", 't3': \"v3\"}\n",
    "\n",
    "strTitles = '| '.join(titles)\n",
    "print(\"| {}|\".format(strTitles))\n",
    "\n",
    "strSeps = \"\"\n",
    "for i in range(len(titles)):\n",
    "    strSeps = strSeps + \"|---\"\n",
    "strSeps = strSeps + '|'\n",
    "print(strSeps)"
   ]
  },
  {
   "cell_type": "code",
   "execution_count": null,
   "metadata": {
    "collapsed": true
   },
   "outputs": [],
   "source": [
    "abc = 'aa.bb'\n"
   ]
  }
 ],
 "metadata": {
  "kernelspec": {
   "display_name": "Python 3",
   "language": "python",
   "name": "python3"
  },
  "language_info": {
   "codemirror_mode": {
    "name": "ipython",
    "version": 3
   },
   "file_extension": ".py",
   "mimetype": "text/x-python",
   "name": "python",
   "nbconvert_exporter": "python",
   "pygments_lexer": "ipython3",
   "version": "3.6.3"
  }
 },
 "nbformat": 4,
 "nbformat_minor": 2
}
